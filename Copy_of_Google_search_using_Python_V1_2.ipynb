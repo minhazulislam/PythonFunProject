{
  "nbformat": 4,
  "nbformat_minor": 0,
  "metadata": {
    "colab": {
      "name": "Copy of Google search using Python V1.2",
      "provenance": [],
      "include_colab_link": true
    },
    "kernelspec": {
      "name": "python3",
      "display_name": "Python 3"
    }
  },
  "cells": [
    {
      "cell_type": "markdown",
      "metadata": {
        "id": "view-in-github",
        "colab_type": "text"
      },
      "source": [
        "<a href=\"https://colab.research.google.com/github/minhazulislam/PythonFunProject/blob/main/Copy_of_Google_search_using_Python_V1_2.ipynb\" target=\"_parent\"><img src=\"https://colab.research.google.com/assets/colab-badge.svg\" alt=\"Open In Colab\"/></a>"
      ]
    },
    {
      "cell_type": "code",
      "metadata": {
        "id": "Y248IHnUQK5i"
      },
      "source": [
        "from googlesearch import search"
      ],
      "execution_count": null,
      "outputs": []
    },
    {
      "cell_type": "code",
      "metadata": {
        "id": "eQZNNNjEQZAw"
      },
      "source": [
        "import requests\n",
        "from lxml.html import fromstring\n",
        "\n",
        "def Link_title(URL):\n",
        "    x = requests.get(URL)\n",
        "    tree = fromstring(x.content)\n",
        "    return tree.findtext('.//title')"
      ],
      "execution_count": null,
      "outputs": []
    },
    {
      "cell_type": "code",
      "metadata": {
        "id": "-8V-aYvOQbaB",
        "colab": {
          "base_uri": "https://localhost:8080/",
          "height": 34
        },
        "outputId": "fba84c34-0da7-405a-8882-65a7e8b84880"
      },
      "source": [
        "company_name = input(\"Please provide the company name:\")"
      ],
      "execution_count": null,
      "outputs": [
        {
          "output_type": "stream",
          "text": [
            "Please provide the company name:Hindusthan petrolium\n"
          ],
          "name": "stdout"
        }
      ]
    },
    {
      "cell_type": "code",
      "metadata": {
        "id": "l4LX9jDuQd55",
        "colab": {
          "base_uri": "https://localhost:8080/",
          "height": 34
        },
        "outputId": "64505b39-14db-45ec-b41f-29f20807d3db"
      },
      "source": [
        "query = int(input(\"Please give the appropriate value. 1 for Fundamental Analysis, 2 for News, 3 for Technical Analysis & 4 for Share Price Forecast:\"))"
      ],
      "execution_count": null,
      "outputs": [
        {
          "output_type": "stream",
          "text": [
            "Please give the appropriate value. 1 for Fundamental Analysis, 2 for News, 3 for Technical Analysis & 4 for Share Price Forecast:4\n"
          ],
          "name": "stdout"
        }
      ]
    },
    {
      "cell_type": "code",
      "metadata": {
        "id": "6gRKcL6tQiAk",
        "colab": {
          "base_uri": "https://localhost:8080/",
          "height": 224
        },
        "outputId": "abf4492f-79d8-4dcb-bd3b-4ea97c7c737f"
      },
      "source": [
        "if query == 1:\n",
        "    print (company_name+\" \"+\"Fundamental Analysis:\")\n",
        "    print (\" \")\n",
        "    for i in search(company_name,  tld='com', lang='en', num=1, start=0, stop=1, domains=['https://www.tickertape.in/'], pause=2.0):\n",
        "            \n",
        "            print (\"\\t\"+i)\n",
        "\n",
        "elif query == 2:\n",
        "        print (company_name+\" \"+\"News:\")\n",
        "        print (\" \")\n",
        "        for i in search(company_name+ 'News',  tld='com', lang='en', num=3, start=0, stop=3, pause=2.0, tpe='nws'):\n",
        "            \n",
        "            print (\"\\t\"+\"#\"+\" \"+Link_title(i))\n",
        "            print(\"\\t\"+i)\n",
        "            print(\" \")\n",
        "\n",
        "elif query == 3:\n",
        "        print (company_name+\" \"+\"Technical Analysis:\")\n",
        "        print (\" \")\n",
        "        for i in search(company_name+ 'Technical Analysis',  tld='com', lang='en', num=3, start=0, stop=3, pause=2.0):\n",
        "            \n",
        "            print (\"\\t\"+\"#\"+\" \"+Link_title(i))\n",
        "            print(\"\\t\"+i)\n",
        "            print(\" \")\n",
        "            \n",
        "else:\n",
        "    print (company_name+\" \"+\"Share Price Forecast:\")\n",
        "    print (\" \")\n",
        "    for i in search(company_name+ 'share price forecast',  tld='com', lang='en', num=3, start=0, stop=3, pause=2.0):\n",
        "        \n",
        "        print (\"\\t\"+\"#\"+\" \"+Link_title(i))\n",
        "        print(\"\\t\"+i)\n",
        "        print(\" \")"
      ],
      "execution_count": null,
      "outputs": [
        {
          "output_type": "stream",
          "text": [
            "Hindusthan petrolium Share Price Forecast:\n",
            " \n",
            "\t# Hindustan Petroleum Corporation Target Share Price, Hindustan Petroleum Corporation Share Price Forecast - The Economic Times\n",
            "\thttps://economictimes.indiatimes.com/hindustan-petroleum-corporation-ltd/prices/companyid-12078.cms\n",
            " \n",
            "\t# Hindustan Petroleum Stock Forecast: down to 161.660 INR? - HINDPETRO Stock Price Prediction, Long-Term & Short-Term Share Revenue Prognosis with Smart Technical Analysis\n",
            "\thttps://walletinvestor.com/bse-stock-forecast/hindustan-petroleum-corporation-ltd-bse-prediction\n",
            " \n",
            "\t# HPCL Share Price, HPCL Stock Price, Hindustan Petroleum Corporation Ltd. Stock Price, Share Price, Live BSE/NSE, Hindustan Petroleum Corporation Ltd. Bids Offers. Buy/Sell Hindustan Petroleum Corporation Ltd. news & tips, & F&O Quotes, NSE/BSE Forecast News and Live Quotes\n",
            "\thttps://www.moneycontrol.com/india/stockpricequote/refineries/hindustanpetroleumcorporation/HPC\n",
            " \n"
          ],
          "name": "stdout"
        }
      ]
    },
    {
      "cell_type": "code",
      "metadata": {
        "id": "p46-vbmiQoAt"
      },
      "source": [
        ""
      ],
      "execution_count": null,
      "outputs": []
    }
  ]
}